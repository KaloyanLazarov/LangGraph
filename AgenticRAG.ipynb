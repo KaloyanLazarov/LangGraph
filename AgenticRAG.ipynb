{
 "cells": [
  {
   "cell_type": "code",
   "execution_count": 128,
   "id": "0a87da4e-c10b-4301-bea9-48dabfb7a786",
   "metadata": {},
   "outputs": [
    {
     "name": "stderr",
     "output_type": "stream",
     "text": [
      "E0000 00:00:1759758868.800216 59967959 alts_credentials.cc:93] ALTS creds ignored. Not running on GCP and untrusted ALTS is not enabled.\n"
     ]
    }
   ],
   "source": [
    "import os\n",
    "from langchain.chat_models import init_chat_model\n",
    "\n",
    "gemini_key = \"CHANE: your API key and the correct provider\"\n",
    "os.environ[\"GOOGLE_API_KEY\"] = gemini_key\n",
    "\n",
    "model = init_chat_model(\"gemini-2.5-flash\", model_provider=\"google_genai\", temperature=0)"
   ]
  },
  {
   "cell_type": "markdown",
   "id": "e301020e-a08d-400e-aaff-299d6d26b0e5",
   "metadata": {},
   "source": [
    "# Load the documents"
   ]
  },
  {
   "cell_type": "code",
   "execution_count": 53,
   "id": "3a98d4dc-dad8-46e6-8539-43e67f77afae",
   "metadata": {},
   "outputs": [],
   "source": [
    "from langchain_community.document_loaders import WebBaseLoader\n",
    "\n",
    "urls = [\n",
    "    \"https://lilianweng.github.io/posts/2024-11-28-reward-hacking/\",\n",
    "    # \"https://lilianweng.github.io/posts/2024-07-07-hallucination/\",\n",
    "    # \"https://lilianweng.github.io/posts/2024-04-12-diffusion-video/\" \n",
    "    #CHANGE: Uncomment and even add more documents to embedd, I am using a free tier and run out of Requests per minute quota\n",
    "]\n",
    "\n",
    "docs = [WebBaseLoader(url).load() for url in urls]"
   ]
  },
  {
   "cell_type": "code",
   "execution_count": 54,
   "id": "5b36003c-106c-4ff0-a304-b54de11ba75a",
   "metadata": {},
   "outputs": [
    {
     "data": {
      "text/plain": [
       "\"Reward Hacking in Reinforcement Learning | Lil'Log\\n\\n\\n\\n\\n\\n\\n\\n\\n\\n\\n\\n\\n\\n\\n\\n\\n\\n\\n\\n\\n\\n\\n\\n\\n\\n\\n\\n\\n\\n\\n\\n\\n\\n\\n\\n\\n\\n\\n\\n\\nLil'Log\\n\\n\\n\\n\\n\\n\\n\\n\\n\\n\\n\\n\\n\\n\\n\\n\\n\\n|\\n\\n\\n\\n\\n\\n\\nPosts\\n\\n\\n\\n\\nArchive\\n\\n\\n\\n\\nSearch\\n\\n\\n\\n\\nTags\\n\\n\\n\\n\\nFAQ\\n\\n\\n\\n\\n\\n\\n\\n\\n\\n      Reward Hacking in Reinforcement Learning\\n    \\nDate: November 28, 2024  |  Estimated Reading Time: 37 min  |  Author: Lilian Weng\\n\\n\\n \\n\\n\\nTable of Contents\\n\\n\\n\\nBackground\\n\\nReward Function in RL\\n\\nSpurious Correlation\\n\\n\\nLet’s Define Reward Hacking\\n\\nList of Examples\\n\\nReward hacking examples in RL tasks\\n\\nReward hacking examples in LLM tasks\\n\\nReward hacking examples in real life\\n\\n\\nWhy does Reward Hacking Exist?\\n\\n\\nHacking RL Environment\\n\\nHacking RLHF of LLMs\\n\\nHacking the Training Process\\n\\nHacking the Evaluator\\n\\nIn-Context Reward Hacking\\n\\n\\nGeneralization of Hacking Skills\\n\\nPeek into Mitigations\\n\\nRL Algorithm Improvement\\n\\nDetecting Reward Hacking\\n\\nData Analysis of RLHF\\n\\n\\nCitation\\n\\nReferences\\n\\n\\n\\n\\n\\nReward hacking occurs when a reinforcement learning (RL) agent exploits flaws or ambiguities in the reward function to ac\""
      ]
     },
     "execution_count": 54,
     "metadata": {},
     "output_type": "execute_result"
    }
   ],
   "source": [
    "docs[0][0].page_content.strip()[:1000]"
   ]
  },
  {
   "cell_type": "markdown",
   "id": "dabc5027-2b8d-484d-ba7f-78a0f37f17c3",
   "metadata": {},
   "source": [
    "# Split and embedd the documents"
   ]
  },
  {
   "cell_type": "code",
   "execution_count": 55,
   "id": "9a75be77-56cd-4336-b7fe-154fd1d8f8a5",
   "metadata": {},
   "outputs": [],
   "source": [
    "from langchain_text_splitters import RecursiveCharacterTextSplitter\n",
    "\n",
    "docs_list = [item for sublist in docs for item in sublist]\n",
    "\n",
    "text_splitter = RecursiveCharacterTextSplitter(length_function=len).from_tiktoken_encoder(chunk_size=100, chunk_overlap=50)\n",
    "\n",
    "doc_splits = text_splitter.split_documents(docs_list)"
   ]
  },
  {
   "cell_type": "code",
   "execution_count": 56,
   "id": "25ceac29-48cd-4ed2-a453-19df39ad46c3",
   "metadata": {},
   "outputs": [
    {
     "data": {
      "text/plain": [
       "\"Reward Hacking in Reinforcement Learning | Lil'Log\\n\\n\\n\\n\\n\\n\\n\\n\\n\\n\\n\\n\\n\\n\\n\\n\\n\\n\\n\\n\\n\\n\\n\\n\\n\\n\\n\\n\\n\\n\\n\\n\\n\\n\\n\\n\\n\\n\\n\\n\\nLil'Log\\n\\n\\n\\n\\n\\n\\n\\n\\n\\n\\n\\n\\n\\n\\n\\n\\n\\n|\\n\\n\\n\\n\\n\\n\\nPosts\\n\\n\\n\\n\\nArchive\\n\\n\\n\\n\\nSearch\\n\\n\\n\\n\\nTags\\n\\n\\n\\n\\nFAQ\""
      ]
     },
     "execution_count": 56,
     "metadata": {},
     "output_type": "execute_result"
    }
   ],
   "source": [
    "doc_splits[0].page_content"
   ]
  },
  {
   "cell_type": "code",
   "execution_count": 66,
   "id": "f875a1e9-7062-4950-822e-b64e12fa7c22",
   "metadata": {},
   "outputs": [
    {
     "name": "stderr",
     "output_type": "stream",
     "text": [
      "E0000 00:00:1759745908.097130 59967959 alts_credentials.cc:93] ALTS creds ignored. Not running on GCP and untrusted ALTS is not enabled.\n",
      "E0000 00:00:1759745908.098281 59967959 alts_credentials.cc:93] ALTS creds ignored. Not running on GCP and untrusted ALTS is not enabled.\n"
     ]
    }
   ],
   "source": [
    "from langchain_core.vectorstores import InMemoryVectorStore\n",
    "from langchain_google_genai import GoogleGenerativeAIEmbeddings\n",
    "\n",
    "vectorstore = InMemoryVectorStore.from_documents(documents=doc_splits[:100], #CHANGE: I embedd only 100 documents due to the quota limitation\n",
    "                                                 embedding=GoogleGenerativeAIEmbeddings(model=\"models/gemini-embedding-001\"))\n",
    "\n",
    "retriever = vectorstore.as_retriever()"
   ]
  },
  {
   "cell_type": "code",
   "execution_count": 74,
   "id": "51c83801-2fbf-4f31-869a-f9ca1d7d3bd6",
   "metadata": {},
   "outputs": [],
   "source": [
    "from langchain.tools.retriever import create_retriever_tool\n",
    "\n",
    "retriever_tool = create_retriever_tool(\n",
    "    retriever,\n",
    "    \"retrieve_blog_posts\",\n",
    "    \"Search and return information about Lilian Weng blog posts\"\n",
    ")"
   ]
  },
  {
   "cell_type": "code",
   "execution_count": 132,
   "id": "73bc4290-273f-4067-af41-abc6c1629b37",
   "metadata": {},
   "outputs": [
    {
     "data": {
      "text/plain": [
       "'Why does Reward Hacking Exist?#\\n\\nHacking RL Environment#\\n\\nLet’s Define Reward Hacking#\\nReward shaping in RL is challenging. Reward hacking occurs when an RL agent exploits flaws or ambiguities in the reward function to obtain high rewards without genuinely learning the intended behaviors or completing the task as designed. In recent years, several related concepts have been proposed, all referring to some form of reward hacking:\\n\\nReward hacking occurs when a reinforcement learning (RL) agent exploits flaws or ambiguities in the reward function to achieve high rewards, without genuinely learning or completing the intended task. Reward hacking exists because RL environments are often imperfect, and it is fundamentally challenging to accurately specify a reward function.'"
      ]
     },
     "execution_count": 132,
     "metadata": {},
     "output_type": "execute_result"
    }
   ],
   "source": [
    "retriever_tool.invoke({\"query\": \"reward hacking\"})"
   ]
  },
  {
   "cell_type": "markdown",
   "id": "ae43269f-a4f9-411c-9671-7d2ee1d1bec5",
   "metadata": {},
   "source": [
    "# Generate a query"
   ]
  },
  {
   "cell_type": "code",
   "execution_count": 129,
   "id": "843ef4eb-47b7-4777-b4f6-5513d5f7d4b1",
   "metadata": {},
   "outputs": [],
   "source": [
    "from langgraph.graph import MessagesState\n",
    "\n",
    "def generate_query_or_respond(state: MessagesState):\n",
    "    response = model.bind_tools([retriever_tool]).invoke(state[\"messages\"])\n",
    "    return {\"messages\": [response]}"
   ]
  },
  {
   "cell_type": "code",
   "execution_count": 130,
   "id": "b7f11c42-c02b-42fb-8939-52870d655e98",
   "metadata": {},
   "outputs": [],
   "source": [
    "input = {\"messages\": [{\"role\": \"user\", \"content\": \"What does Lilian Weng say about types of reward hacking?\"}]}\n",
    "state = generate_query_or_respond(input)"
   ]
  },
  {
   "cell_type": "code",
   "execution_count": 131,
   "id": "534a505f-e396-4873-ad33-df94972a2461",
   "metadata": {},
   "outputs": [
    {
     "name": "stdout",
     "output_type": "stream",
     "text": [
      "==================================\u001b[1m Ai Message \u001b[0m==================================\n",
      "Tool Calls:\n",
      "  retrieve_blog_posts (b4b1f591-9297-4840-a7ed-2b73deb88d45)\n",
      " Call ID: b4b1f591-9297-4840-a7ed-2b73deb88d45\n",
      "  Args:\n",
      "    query: reward hacking\n"
     ]
    }
   ],
   "source": [
    "state[\"messages\"][-1].pretty_print()"
   ]
  },
  {
   "cell_type": "markdown",
   "id": "9b08af87-a5c6-48bf-9330-9009446bef8d",
   "metadata": {},
   "source": [
    "# Grade documents"
   ]
  },
  {
   "cell_type": "code",
   "execution_count": 133,
   "id": "f2b3bc25-56ca-4839-8566-d39a62d486d3",
   "metadata": {},
   "outputs": [],
   "source": [
    "from pydantic import BaseModel, Field\n",
    "from typing import Literal\n",
    "\n",
    "GRADE_PROMPT = (\n",
    "    \"You are a grader assessing relevance of a retrieved document to a user question. \\n \"\n",
    "    \"Here is the retrieved document: \\n\\n {context} \\n\\n\"\n",
    "    \"Here is the user question: {question} \\n\"\n",
    "    \"If the document contains keyword(s) or semantic meaning related to the user question, grade it as relevant. \\n\"\n",
    "    \"Give a binary score 'yes' or 'no' score to indicate whether the document is relevant to the question.\"\n",
    ")\n",
    "\n",
    "class GradeDocuments(BaseModel):\n",
    "    binary_score: str = Field(description=\"Relevance score: 'yes if relevant, 'no' if not relevant\")\n",
    "\n",
    "grader_model = model.with_structured_output(GradeDocuments)"
   ]
  },
  {
   "cell_type": "code",
   "execution_count": 174,
   "id": "446b6ea9-5b32-4e6f-ae5d-42d21fd124d4",
   "metadata": {},
   "outputs": [],
   "source": [
    "def grade_documents(state: MessagesState) -> Literal[\"generate_answer\", \"rewrite_question\"]:\n",
    "    question = state[\"messages\"][0].content\n",
    "    context = state[\"messages\"][-1].content\n",
    "\n",
    "    prompt = GRADE_PROMPT.format(question=question, context=context)\n",
    "    response = grader_model.invoke([{\"role\": \"user\", \"content\": prompt}])\n",
    "\n",
    "    score = response.binary_score\n",
    "\n",
    "    if score == \"yes\":\n",
    "        return \"generate_answer\"\n",
    "    return \"rewrite_question\""
   ]
  },
  {
   "cell_type": "code",
   "execution_count": 136,
   "id": "08d1a339-68c9-4ac8-bfc2-cc9290bea157",
   "metadata": {},
   "outputs": [
    {
     "data": {
      "text/plain": [
       "'rewrite question'"
      ]
     },
     "execution_count": 136,
     "metadata": {},
     "output_type": "execute_result"
    }
   ],
   "source": [
    "from langchain_core.messages import convert_to_messages\n",
    "\n",
    "input = {\n",
    "    \"messages\": convert_to_messages(\n",
    "        [\n",
    "            {\n",
    "                \"role\": \"user\",\n",
    "                \"content\": \"What does Lilian Weng say about types of reward hacking?\",\n",
    "            },\n",
    "            {\n",
    "                \"role\": \"assistant\",\n",
    "                \"content\": \"\",\n",
    "                \"tool_calls\": [\n",
    "                    {\n",
    "                        \"id\": \"1\",\n",
    "                        \"name\": \"retrieve_blog_posts\",\n",
    "                        \"args\": {\"query\": \"types of reward hacking\"},\n",
    "                    }\n",
    "                ],\n",
    "            },\n",
    "            {\"role\": \"tool\", \"content\": \"meow\", \"tool_call_id\": \"1\"},\n",
    "        ]\n",
    "    )\n",
    "}\n",
    "grade_documents(input)"
   ]
  },
  {
   "cell_type": "code",
   "execution_count": 137,
   "id": "ca991706-fc25-4b5d-b1db-59dd58886018",
   "metadata": {},
   "outputs": [
    {
     "data": {
      "text/plain": [
       "'generate answer'"
      ]
     },
     "execution_count": 137,
     "metadata": {},
     "output_type": "execute_result"
    }
   ],
   "source": [
    "input = {\n",
    "    \"messages\": convert_to_messages([\n",
    "        {\n",
    "            \"role\": \"user\",\n",
    "            \"content\": \"What does Lilian Weng say about types of reward hacking?\"\n",
    "        },\n",
    "        {\n",
    "            \"role\": \"assistant\",\n",
    "            \"content\": \"\",\n",
    "            \"tool_calls\": [\n",
    "                {\n",
    "                    \"id\": \"1\",\n",
    "                    \"name\": \"retrieve_blog_posts\",\n",
    "                    \"args\": {\"query\": \"types of reward hacking\"}\n",
    "                }\n",
    "            ]\n",
    "        },\n",
    "        {\n",
    "            \"role\": \"tool\",\n",
    "            \"content\": \"reward hacking can be categorized into two types: environment or goal misspecification, and reward tampering\",\n",
    "            \"tool_call_id\": 1\n",
    "        }\n",
    "    ])\n",
    "}\n",
    "grade_documents(input)"
   ]
  },
  {
   "cell_type": "markdown",
   "id": "24dccbd5-573c-47a0-881a-de61faf7db33",
   "metadata": {},
   "source": [
    "# Rewrite Question"
   ]
  },
  {
   "cell_type": "code",
   "execution_count": 145,
   "id": "caef4a40-4e82-4f41-8f03-6d919fa773a4",
   "metadata": {},
   "outputs": [],
   "source": [
    "REWRITE_PROMPT = (\n",
    "    \"Look at the input and try to reason about the underlying semantic intent / meaning.\\n\"\n",
    "    \"Here is the initial question:\"\n",
    "    \"\\n ------- \\n\"\n",
    "    \"{question}\"\n",
    "    \"\\n ------- \\n\"\n",
    "    \"Formulate a single improved question and only the question:\"\n",
    ")\n",
    "\n",
    "def rewrite_question(state: MessagesState):\n",
    "    messages = state[\"messages\"]\n",
    "    question = messages[0].content\n",
    "    prompt = REWRITE_PROMPT.format(question=question)\n",
    "    response = model.invoke([{\"role\": \"user\", \"content\": prompt}])\n",
    "    return {\"messages\": [{\"role\": \"user\", \"content\": response.content}]}"
   ]
  },
  {
   "cell_type": "code",
   "execution_count": 146,
   "id": "b3fc2b48-f870-43a9-abe9-e40a413d32c3",
   "metadata": {},
   "outputs": [
    {
     "name": "stdout",
     "output_type": "stream",
     "text": [
      "What types of reward hacking does Lilian Weng identify?\n"
     ]
    }
   ],
   "source": [
    "input = {\n",
    "    \"messages\": convert_to_messages(\n",
    "        [\n",
    "            {\n",
    "                \"role\": \"user\",\n",
    "                \"content\": \"What does Lilian Weng say about types of reward hacking?\",\n",
    "            },\n",
    "            {\n",
    "                \"role\": \"assistant\",\n",
    "                \"content\": \"\",\n",
    "                \"tool_calls\": [\n",
    "                    {\n",
    "                        \"id\": \"1\",\n",
    "                        \"name\": \"retrieve_blog_posts\",\n",
    "                        \"args\": {\"query\": \"types of reward hacking\"},\n",
    "                    }\n",
    "                ],\n",
    "            },\n",
    "            {\"role\": \"tool\", \"content\": \"meow\", \"tool_call_id\": \"1\"},\n",
    "        ]\n",
    "    )\n",
    "}\n",
    "\n",
    "response = rewrite_question(input)\n",
    "print(response[\"messages\"][-1][\"content\"])"
   ]
  },
  {
   "cell_type": "markdown",
   "id": "8d893485-8b49-4dfc-bfba-d70c1dd62a66",
   "metadata": {},
   "source": [
    "# Generate an answer"
   ]
  },
  {
   "cell_type": "code",
   "execution_count": 150,
   "id": "da4b679e-fb1c-447e-a673-b8164f099c15",
   "metadata": {},
   "outputs": [],
   "source": [
    "GENERATE_PROMPT = (\n",
    "    \"You are an assistant for question-answering tasks. \"\n",
    "    \"Use the following pieces of retrieved context to answer the question. \"\n",
    "    \"If you don't know the answer, just say that you don't know. \"\n",
    "    \"Use three sentences maximum and keep the answer concise.\\n\"\n",
    "    \"Question: {question} \\n\"\n",
    "    \"Context: {context}\"\n",
    ")\n",
    "\n",
    "def generate_answer(state: MessagesState):\n",
    "    question = state[\"messages\"][0].content\n",
    "    context = state[\"messages\"][-1].content\n",
    "    prompt = GENERATE_PROMPT.format(question=question, context=context)\n",
    "    response = model.invoke([{\"role\": \"user\", \"content\": prompt}])\n",
    "    return {\"messages\": response.content}"
   ]
  },
  {
   "cell_type": "code",
   "execution_count": 159,
   "id": "a25636e6-f236-481a-b26a-7f0522e9c031",
   "metadata": {},
   "outputs": [
    {
     "data": {
      "text/plain": [
       "{'messages': 'Lilian Weng states that reward hacking can be categorized into two types. These types are environment or goal misspecification, and reward tampering.'}"
      ]
     },
     "execution_count": 159,
     "metadata": {},
     "output_type": "execute_result"
    }
   ],
   "source": [
    "input = {\n",
    "    \"messages\": convert_to_messages(\n",
    "        [\n",
    "            {\n",
    "                \"role\": \"user\",\n",
    "                \"content\": \"What does Lilian Weng say about types of reward hacking?\",\n",
    "            },\n",
    "            {\n",
    "                \"role\": \"assistant\",\n",
    "                \"content\": \"\",\n",
    "                \"tool_calls\": [\n",
    "                    {\n",
    "                        \"id\": \"1\",\n",
    "                        \"name\": \"retrieve_blog_posts\",\n",
    "                        \"args\": {\"query\": \"types of reward hacking\"},\n",
    "                    }\n",
    "                ],\n",
    "            },\n",
    "            {\n",
    "                \"role\": \"tool\",\n",
    "                \"content\": \"reward hacking can be categorized into two types: environment or goal misspecification, and reward tampering\",\n",
    "                \"tool_call_id\": \"1\",\n",
    "            },\n",
    "        ]\n",
    "    )\n",
    "}\n",
    "\n",
    "response = generate_answer(input)\n",
    "response"
   ]
  },
  {
   "cell_type": "code",
   "execution_count": 158,
   "id": "ed2d94dd-4ecc-4aa9-ac5f-f1634fd0d9c1",
   "metadata": {},
   "outputs": [
    {
     "data": {
      "text/plain": [
       "'Lilian Weng states that reward hacking can be categorized into two types. These types are environment or goal misspecification, and reward tampering.'"
      ]
     },
     "execution_count": 158,
     "metadata": {},
     "output_type": "execute_result"
    }
   ],
   "source": [
    "response[\"messages\"]"
   ]
  },
  {
   "cell_type": "markdown",
   "id": "b8710168-5852-4ab4-b909-ce29fd5da616",
   "metadata": {},
   "source": [
    "# Assemble the graph"
   ]
  },
  {
   "cell_type": "code",
   "execution_count": 209,
   "id": "a4e46d49-3b1e-4556-8f0f-ac8d031fc8cd",
   "metadata": {},
   "outputs": [],
   "source": [
    "from langgraph.graph import StateGraph, START, END\n",
    "from langgraph.prebuilt import ToolNode\n",
    "from langgraph.prebuilt import tools_condition\n",
    "\n",
    "workflow = StateGraph(MessagesState)\n",
    "\n",
    "workflow.add_node(generate_query_or_respond)\n",
    "workflow.add_node(\"retriever\", ToolNode([retriever_tool]))\n",
    "workflow.add_node(rewrite_question)\n",
    "workflow.add_node(generate_answer)\n",
    "\n",
    "workflow.add_edge(START, \"generate_query_or_respond\")\n",
    "workflow.add_conditional_edges(\n",
    "    \"generate_query_or_respond\",\n",
    "    tools_condition,\n",
    "    {\n",
    "        \"tools\": \"retriever\",\n",
    "        END: END #To visuallise the graph the key must be a string -> \"END\": END, otherwise it is invalid mermaid syntax\n",
    "    },\n",
    ")\n",
    "workflow.add_conditional_edges(\n",
    "    \"retriever\",\n",
    "    grade_documents\n",
    ")\n",
    "workflow.add_edge(\"generate_answer\", END)\n",
    "workflow.add_edge(\"rewrite_question\", \"generate_query_or_respond\")\n",
    "\n",
    "graph_rag = workflow.compile()"
   ]
  },
  {
   "cell_type": "code",
   "execution_count": 208,
   "id": "f45e3718-8cee-49bc-bb34-2534f0457dff",
   "metadata": {},
   "outputs": [
    {
     "data": {
      "image/png": "[encoded data removed]",
      "text/plain": [
       "<IPython.core.display.Image object>"
      ]
     },
     "metadata": {},
     "output_type": "display_data"
    }
   ],
   "source": [
    "from IPython.display import Image, display\n",
    "\n",
    "display(Image(graph_rag.get_graph().draw_mermaid_png())) #The first"
   ]
  },
  {
   "cell_type": "code",
   "execution_count": 210,
   "id": "f9e04627-32b9-4ceb-8775-e61b589481f2",
   "metadata": {},
   "outputs": [
    {
     "name": "stdout",
     "output_type": "stream",
     "text": [
      "Update from node generate_query_or_respond\n",
      "==================================\u001b[1m Ai Message \u001b[0m==================================\n",
      "Tool Calls:\n",
      "  retrieve_blog_posts (8b337495-305d-4d6d-8457-1373708ff85c)\n",
      " Call ID: 8b337495-305d-4d6d-8457-1373708ff85c\n",
      "  Args:\n",
      "    query: reward hacking types\n",
      "\n",
      "\n",
      "\n",
      "Update from node retriever\n",
      "=================================\u001b[1m Tool Message \u001b[0m=================================\n",
      "Name: retrieve_blog_posts\n",
      "\n",
      "Why does Reward Hacking Exist?#\n",
      "\n",
      "Let’s Define Reward Hacking#\n",
      "Reward shaping in RL is challenging. Reward hacking occurs when an RL agent exploits flaws or ambiguities in the reward function to obtain high rewards without genuinely learning the intended behaviors or completing the task as designed. In recent years, several related concepts have been proposed, all referring to some form of reward hacking:\n",
      "\n",
      "Reward hacking occurs when a reinforcement learning (RL) agent exploits flaws or ambiguities in the reward function to achieve high rewards, without genuinely learning or completing the intended task. Reward hacking exists because RL environments are often imperfect, and it is fundamentally challenging to accurately specify a reward function.\n",
      "\n",
      "(Note: Some work defines reward tampering as a distinct category of misalignment behavior from reward hacking. But I consider reward hacking as a broader concept here.)\n",
      "At a high level, reward hacking can be categorized into two types: environment or goal misspecification, and reward tampering.\n",
      "\n",
      "\n",
      "\n",
      "Update from node rewrite_question\n",
      "{'role': 'user', 'content': 'How does Lilian Weng categorize reward hacking?'}\n",
      "\n",
      "\n",
      "\n",
      "Update from node generate_query_or_respond\n",
      "==================================\u001b[1m Ai Message \u001b[0m==================================\n",
      "\n",
      "Lilian Weng categorizes reward hacking into two main types: environment or goal misspecification, and reward tampering.\n",
      "\n",
      "\n",
      "\n"
     ]
    }
   ],
   "source": [
    "for chunk in graph_rag.stream({\n",
    "    \"messages\": [\n",
    "        {\n",
    "            \"role\": \"user\",\n",
    "            \"content\": \"What does Lilian Weng say about types of reward hacking?\"\n",
    "        }\n",
    "    ]\n",
    "}):\n",
    "\n",
    "    for node, update in chunk.items():\n",
    "        print(\"Update from node\", node)\n",
    "        if hasattr(update[\"messages\"][-1], \"pretty_print\"):\n",
    "            update[\"messages\"][-1].pretty_print()\n",
    "        else:\n",
    "            print(update[\"messages\"][-1])\n",
    "        print(\"\\n\\n\")"
   ]
  },
  {
   "cell_type": "code",
   "execution_count": null,
   "id": "45972f99-97d2-4b02-ad51-9b3a4f961006",
   "metadata": {},
   "outputs": [],
   "source": []
  }
 ],
 "metadata": {
  "kernelspec": {
   "display_name": "Python 3 (ipykernel)",
   "language": "python",
   "name": "python3"
  },
  "language_info": {
   "codemirror_mode": {
    "name": "ipython",
    "version": 3
   },
   "file_extension": ".py",
   "mimetype": "text/x-python",
   "name": "python",
   "nbconvert_exporter": "python",
   "pygments_lexer": "ipython3",
   "version": "3.11.5"
  }
 },
 "nbformat": 4,
 "nbformat_minor": 5
}
